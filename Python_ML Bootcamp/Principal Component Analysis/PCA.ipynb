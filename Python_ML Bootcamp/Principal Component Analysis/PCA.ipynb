{
 "cells": [
  {
   "cell_type": "markdown",
   "metadata": {},
   "source": [
    "# Principal Component Analysis\n",
    "\n",
    "- 真實資料的特徵是非常多維度的，如何找到影響力大，或是最能解釋變異關係的特徵(最大變異數)，這種技術就顯得分常重要。\n",
    "<br><br>\n",
    "- 我們其實在做資料前處理的時候，就是討論特徵之間的關係，特徵與label的關係，但是因為往往真實的資料，特徵值的維度是非常的多的，此時用視覺化的方式也不會較為清楚，因此採取PCA方式\n",
    "<br><br>\n",
    "- PCA : 找到這些特徵關係中，先找到幾個「 主要 」最能夠解釋或影響資料變異的特徵，作為新特徵維度，並透過這些維度，先行訓練，\n",
    "<br><br>\n",
    "- 所以概念就很像是dimensionality reduction"
   ]
  },
  {
   "cell_type": "code",
   "execution_count": 1,
   "metadata": {},
   "outputs": [],
   "source": [
    "import pandas as pd\n",
    "import numpy as np\n",
    "import matplotlib.pyplot as plt\n",
    "import seaborn as sns\n",
    "%matplotlib inline\n",
    "\n",
    "from sklearn.datasets import load_breast_cancer"
   ]
  },
  {
   "cell_type": "code",
   "execution_count": 2,
   "metadata": {},
   "outputs": [],
   "source": [
    "df=load_breast_cancer()"
   ]
  },
  {
   "cell_type": "code",
   "execution_count": 3,
   "metadata": {},
   "outputs": [
    {
     "data": {
      "text/plain": [
       "dict_keys(['data', 'target', 'target_names', 'DESCR', 'feature_names'])"
      ]
     },
     "execution_count": 3,
     "metadata": {},
     "output_type": "execute_result"
    }
   ],
   "source": [
    "df.keys()"
   ]
  },
  {
   "cell_type": "code",
   "execution_count": 4,
   "metadata": {},
   "outputs": [],
   "source": [
    "data=pd.DataFrame(data=df[\"data\"],columns=df[\"feature_names\"])"
   ]
  },
  {
   "cell_type": "code",
   "execution_count": 5,
   "metadata": {},
   "outputs": [
    {
     "data": {
      "text/html": [
       "<div>\n",
       "<style scoped>\n",
       "    .dataframe tbody tr th:only-of-type {\n",
       "        vertical-align: middle;\n",
       "    }\n",
       "\n",
       "    .dataframe tbody tr th {\n",
       "        vertical-align: top;\n",
       "    }\n",
       "\n",
       "    .dataframe thead th {\n",
       "        text-align: right;\n",
       "    }\n",
       "</style>\n",
       "<table border=\"1\" class=\"dataframe\">\n",
       "  <thead>\n",
       "    <tr style=\"text-align: right;\">\n",
       "      <th></th>\n",
       "      <th>mean radius</th>\n",
       "      <th>mean texture</th>\n",
       "      <th>mean perimeter</th>\n",
       "      <th>mean area</th>\n",
       "      <th>mean smoothness</th>\n",
       "      <th>mean compactness</th>\n",
       "      <th>mean concavity</th>\n",
       "      <th>mean concave points</th>\n",
       "      <th>mean symmetry</th>\n",
       "      <th>mean fractal dimension</th>\n",
       "      <th>...</th>\n",
       "      <th>worst radius</th>\n",
       "      <th>worst texture</th>\n",
       "      <th>worst perimeter</th>\n",
       "      <th>worst area</th>\n",
       "      <th>worst smoothness</th>\n",
       "      <th>worst compactness</th>\n",
       "      <th>worst concavity</th>\n",
       "      <th>worst concave points</th>\n",
       "      <th>worst symmetry</th>\n",
       "      <th>worst fractal dimension</th>\n",
       "    </tr>\n",
       "  </thead>\n",
       "  <tbody>\n",
       "    <tr>\n",
       "      <th>0</th>\n",
       "      <td>17.99</td>\n",
       "      <td>10.38</td>\n",
       "      <td>122.8</td>\n",
       "      <td>1001.0</td>\n",
       "      <td>0.1184</td>\n",
       "      <td>0.2776</td>\n",
       "      <td>0.3001</td>\n",
       "      <td>0.1471</td>\n",
       "      <td>0.2419</td>\n",
       "      <td>0.07871</td>\n",
       "      <td>...</td>\n",
       "      <td>25.38</td>\n",
       "      <td>17.33</td>\n",
       "      <td>184.6</td>\n",
       "      <td>2019.0</td>\n",
       "      <td>0.1622</td>\n",
       "      <td>0.6656</td>\n",
       "      <td>0.7119</td>\n",
       "      <td>0.2654</td>\n",
       "      <td>0.4601</td>\n",
       "      <td>0.1189</td>\n",
       "    </tr>\n",
       "  </tbody>\n",
       "</table>\n",
       "<p>1 rows × 30 columns</p>\n",
       "</div>"
      ],
      "text/plain": [
       "   mean radius  mean texture  mean perimeter  mean area  mean smoothness  \\\n",
       "0        17.99         10.38           122.8     1001.0           0.1184   \n",
       "\n",
       "   mean compactness  mean concavity  mean concave points  mean symmetry  \\\n",
       "0            0.2776          0.3001               0.1471         0.2419   \n",
       "\n",
       "   mean fractal dimension           ...             worst radius  \\\n",
       "0                 0.07871           ...                    25.38   \n",
       "\n",
       "   worst texture  worst perimeter  worst area  worst smoothness  \\\n",
       "0          17.33            184.6      2019.0            0.1622   \n",
       "\n",
       "   worst compactness  worst concavity  worst concave points  worst symmetry  \\\n",
       "0             0.6656           0.7119                0.2654          0.4601   \n",
       "\n",
       "   worst fractal dimension  \n",
       "0                   0.1189  \n",
       "\n",
       "[1 rows x 30 columns]"
      ]
     },
     "execution_count": 5,
     "metadata": {},
     "output_type": "execute_result"
    }
   ],
   "source": [
    "data.head(1)"
   ]
  },
  {
   "cell_type": "code",
   "execution_count": 6,
   "metadata": {},
   "outputs": [],
   "source": [
    "from sklearn.preprocessing import StandardScaler"
   ]
  },
  {
   "cell_type": "code",
   "execution_count": 7,
   "metadata": {},
   "outputs": [],
   "source": [
    "scaler = StandardScaler()"
   ]
  },
  {
   "cell_type": "code",
   "execution_count": 8,
   "metadata": {},
   "outputs": [],
   "source": [
    "scaler.fit(data)\n",
    "feature_data=scaler.transform(data)"
   ]
  },
  {
   "cell_type": "markdown",
   "metadata": {},
   "source": [
    "# PCA\n",
    "- from sklearn.decomposition import PCA"
   ]
  },
  {
   "cell_type": "code",
   "execution_count": 9,
   "metadata": {},
   "outputs": [],
   "source": [
    "# PCA\n",
    "from sklearn.decomposition import PCA"
   ]
  },
  {
   "cell_type": "code",
   "execution_count": 10,
   "metadata": {},
   "outputs": [],
   "source": [
    "# 找到兩個主要的component\n",
    "pca=PCA(n_components=2)"
   ]
  },
  {
   "cell_type": "code",
   "execution_count": 11,
   "metadata": {},
   "outputs": [
    {
     "data": {
      "text/plain": [
       "PCA(copy=True, iterated_power='auto', n_components=2, random_state=None,\n",
       "  svd_solver='auto', tol=0.0, whiten=False)"
      ]
     },
     "execution_count": 11,
     "metadata": {},
     "output_type": "execute_result"
    }
   ],
   "source": [
    "#PCA\n",
    "pca.fit(feature_data)"
   ]
  },
  {
   "cell_type": "code",
   "execution_count": 12,
   "metadata": {},
   "outputs": [],
   "source": [
    "x_pca = pca.transform(feature_data)"
   ]
  },
  {
   "cell_type": "code",
   "execution_count": 13,
   "metadata": {},
   "outputs": [
    {
     "data": {
      "text/plain": [
       "(569, 30)"
      ]
     },
     "execution_count": 13,
     "metadata": {},
     "output_type": "execute_result"
    }
   ],
   "source": [
    "# 未使用 PCA 資料的維度\n",
    "feature_data.shape"
   ]
  },
  {
   "cell_type": "code",
   "execution_count": 14,
   "metadata": {},
   "outputs": [
    {
     "data": {
      "text/plain": [
       "(569, 2)"
      ]
     },
     "execution_count": 14,
     "metadata": {},
     "output_type": "execute_result"
    }
   ],
   "source": [
    "# 使用PCA後 資料的維度\n",
    "x_pca.shape"
   ]
  },
  {
   "cell_type": "code",
   "execution_count": 15,
   "metadata": {},
   "outputs": [],
   "source": [
    "pd.options.display.max_columns=30"
   ]
  },
  {
   "cell_type": "code",
   "execution_count": 16,
   "metadata": {},
   "outputs": [
    {
     "data": {
      "text/plain": [
       "array([[ 9.19283683,  1.94858307],\n",
       "       [ 2.3878018 , -3.76817174],\n",
       "       [ 5.73389628, -1.0751738 ],\n",
       "       ...,\n",
       "       [ 1.25617928, -1.90229671],\n",
       "       [10.37479406,  1.67201011],\n",
       "       [-5.4752433 , -0.67063679]])"
      ]
     },
     "execution_count": 16,
     "metadata": {},
     "output_type": "execute_result"
    }
   ],
   "source": [
    "#這些搜出來的特徵值就是從多的維度當中挑選出來最有影響力的特徵\n",
    "x_pca"
   ]
  },
  {
   "cell_type": "code",
   "execution_count": 17,
   "metadata": {},
   "outputs": [
    {
     "data": {
      "text/plain": [
       "array([ 1.94858307e+00, -3.76817174e+00, -1.07517380e+00,  1.02755891e+01,\n",
       "       -1.94807157e+00,  3.94992890e+00, -2.69003128e+00,  2.34024401e+00,\n",
       "        3.39181295e+00,  7.72717407e+00, -2.65927550e+00,  6.65679266e-02,\n",
       "        2.70097649e+00, -9.68279261e-01,  4.86108331e+00,  2.97706118e+00,\n",
       "       -1.56475773e+00,  1.41867033e+00, -4.11433352e+00, -1.88214954e-01,\n",
       "        5.72808193e-01,  1.66294990e+00,  3.30496373e+00, -5.12836651e+00,\n",
       "       -1.54375229e+00,  2.01861034e+00,  2.17162512e+00, -1.87655235e+00,\n",
       "        5.37242161e-01, -1.52370502e+00, -7.57177451e-01,  4.00529551e+00,\n",
       "        3.37536154e-01, -1.13258891e+00,  7.58423243e-01, -3.54355942e-01,\n",
       "        9.13196276e-01, -1.41347312e+00, -3.35129292e+00,  8.86243953e-01,\n",
       "       -1.92399162e+00,  2.26075201e+00,  2.01867310e+00,  9.84930020e-01,\n",
       "       -1.37099091e-01, -1.34876978e-01,  1.48422032e+00,  2.35227179e+00,\n",
       "        9.58296095e-02, -1.20843321e+00, -1.28249558e+00, -1.68895860e+00,\n",
       "       -4.98218714e-01, -1.13093780e+00, -2.11640972e+00,  1.52723136e-01,\n",
       "       -2.31033257e+00,  9.72116046e-01, -1.78764165e+00,  2.40379249e+00,\n",
       "        2.75765813e+00,  3.13867192e+00,  3.01168051e+00,  3.26798968e+00,\n",
       "        1.54067656e+00,  7.22740191e-01,  2.31064871e+00, -6.58309469e-01,\n",
       "        9.20252569e+00, -9.37838120e-01, -4.43714177e+00,  7.38781218e+00,\n",
       "        9.38325415e-01,  1.19739086e-01, -6.97309369e-01, -1.96710141e+00,\n",
       "        1.96560486e+00,  9.20069543e-01,  4.74861720e+00, -2.54899834e-01,\n",
       "        1.71594911e+00,  2.51451585e+00, -2.25798290e+00,  7.74409156e-01,\n",
       "        4.96877985e-01, -1.66823706e+00,  1.62214525e-01, -2.20666184e+00,\n",
       "        9.27701481e-01,  1.01557707e+00, -1.61965683e+00, -5.31351547e-01,\n",
       "       -2.89364760e+00, -9.65156988e-01,  5.58000527e-01, -2.12350771e+00,\n",
       "        2.13633930e-01,  1.19006663e+00,  3.67883981e-01,  6.38911669e-01,\n",
       "       -1.39204430e+00,  3.52878602e+00, -1.42462246e+00,  1.84937361e+00,\n",
       "        1.42006174e+00,  4.04675622e+00,  1.79763852e+00, -1.03574943e+00,\n",
       "        9.81513226e-01,  6.67410636e-01,  2.59868627e+00,  2.28014354e+00,\n",
       "        3.92633316e+00,  3.55622510e+00,  3.25131950e+00,  3.04884867e-01,\n",
       "        3.66709588e+00,  1.56938956e+00,  2.38484622e+00, -2.30673537e+00,\n",
       "        3.71506482e-01, -1.32555735e+00,  2.31662246e+00, -6.41092200e-02,\n",
       "       -7.35605230e-01, -1.87740903e+00, -9.11366029e-01, -3.53808237e+00,\n",
       "        1.30492941e+00, -1.48201717e+00,  1.42323064e+00, -1.04960395e+00,\n",
       "       -1.15414147e+00, -1.56823232e+00, -2.82626073e+00, -4.19387447e-01,\n",
       "       -4.82335467e-01, -4.18321406e-01,  8.60381598e-01,  1.32935517e+00,\n",
       "        5.74699979e-01, -1.27477096e+00,  8.98455292e-01, -9.10267655e-02,\n",
       "       -8.93572266e-01,  3.70218238e+00,  4.83798882e+00,  1.08306806e+00,\n",
       "       -3.89631317e-01, -2.23778452e+00,  3.05870449e-01,  7.15035980e+00,\n",
       "        1.25731942e+01,  2.50501527e-01,  9.44944302e-01,  5.55241298e-03,\n",
       "       -3.78803820e-01, -3.07064866e+00, -6.74648742e-01, -1.10385725e+00,\n",
       "        1.78565088e+00, -2.91103711e+00, -2.01765275e+00,  1.46929402e+00,\n",
       "       -4.16582931e+00, -2.73886105e+00,  6.87228128e-03, -2.03903896e+00,\n",
       "       -1.78515233e+00, -1.84277942e+00,  1.14252299e-01, -1.68475355e+00,\n",
       "        1.26510313e+00,  1.61969198e+00, -2.22914815e-01,  1.02675786e+00,\n",
       "        7.01448658e+00,  7.06421852e-01, -3.38620487e+00, -1.24616617e+00,\n",
       "       -5.60348419e+00,  5.81031077e-01, -1.60853258e+00,  5.39935801e-01,\n",
       "       -9.89242353e-01,  8.16071711e-01, -3.57446123e+00, -3.98729694e-01,\n",
       "        1.55741195e-01, -1.10373242e+00,  8.01116961e+00, -5.43165527e-01,\n",
       "       -4.77847579e-01,  2.77658717e+00,  1.56142171e+00, -9.70110567e-01,\n",
       "        2.27848285e+00, -2.44325896e+00, -2.27784891e+00,  3.82393264e-01,\n",
       "        1.16890257e-01, -2.10229107e+00, -6.55172825e-01,  3.08663916e+00,\n",
       "        6.52849259e-01, -7.01821490e-01,  1.30693872e+00, -2.78770774e+00,\n",
       "        2.07756073e+00, -2.47278779e+00, -3.02910297e+00, -3.96778028e-01,\n",
       "       -7.54341017e+00,  2.58782543e+00,  2.61464848e+00,  2.15447950e+00,\n",
       "        2.27679789e+00,  1.08683469e+00, -2.84832446e+00, -4.66627518e+00,\n",
       "       -7.33402564e-01,  4.38438182e-01,  1.81097378e+00,  1.66460957e-01,\n",
       "       -1.41857645e+00, -1.25024747e+00,  5.38570745e-01, -6.14415470e-01,\n",
       "       -2.01726757e-01,  3.46577360e+00, -1.25200492e-01, -1.35424738e+00,\n",
       "       -1.29162906e+00, -3.93915226e+00,  1.16254611e+00, -1.34897973e+00,\n",
       "       -4.15390478e+00, -3.95117295e+00, -1.13599113e+00, -2.15457003e+00,\n",
       "       -1.21499969e+00, -1.74112936e+00,  4.78947658e+00, -1.58412815e+00,\n",
       "       -1.02623264e+00,  2.07768598e+00, -1.17207348e+00,  2.36126194e+00,\n",
       "        7.29213114e-01,  4.60596403e-01, -2.07484223e+00, -6.49468800e-01,\n",
       "        5.28223172e-01, -1.77542583e+00, -2.80747711e+00,  3.94166289e-01,\n",
       "       -1.82309416e+00,  3.89453099e+00,  3.27987737e+00,  1.06564607e+00,\n",
       "       -3.37122789e+00, -3.50008503e+00, -9.90673201e-01, -3.12194581e+00,\n",
       "       -2.47457335e+00, -6.00327642e+00,  1.68663181e+00, -1.10348656e+00,\n",
       "        9.49363919e-03,  3.15252061e+00, -3.16927259e+00,  4.10301795e-01,\n",
       "       -3.07530630e+00,  1.58958706e+00, -3.14437346e+00,  8.49052983e-01,\n",
       "       -3.21978057e-01, -3.45934329e+00, -2.63408240e+00, -9.02064210e-01,\n",
       "       -1.34112305e+00, -1.38026264e-01, -1.90190742e+00,  5.77154996e-01,\n",
       "        5.80546142e-03, -1.37650824e+00,  1.69500962e+00, -1.97848613e+00,\n",
       "        3.72343400e+00,  3.54160227e-01,  4.27345956e+00, -8.08576571e-01,\n",
       "        1.39397811e+00, -2.68644509e-01, -8.07600615e-01, -1.44217623e+00,\n",
       "       -5.42961860e-01, -8.24115571e-01, -2.53303400e+00,  7.53963957e-01,\n",
       "       -1.48486245e+00,  5.91942868e-01,  5.51460602e-02,  8.91582992e-01,\n",
       "       -1.79213386e-01, -3.06058435e-01, -1.52472642e+00,  5.56255505e-01,\n",
       "       -3.06538743e+00, -2.54290704e+00, -6.85630478e-02, -3.13870939e+00,\n",
       "       -4.39284864e-03, -2.40698054e-01,  4.39820049e+00, -2.33921479e+00,\n",
       "       -1.79840198e+00, -2.39223800e+00,  6.50909931e+00, -1.40220646e+00,\n",
       "        3.47080864e+00, -4.32152296e+00,  3.96207302e-01, -3.57017971e-02,\n",
       "       -7.42526542e-01, -4.64731625e-01, -1.77124840e+00, -1.83561836e+00,\n",
       "       -3.48535940e-01,  1.12197394e+00, -2.69221636e-01,  1.26587162e+00,\n",
       "        1.10344314e+00, -7.61103730e-01, -9.09918555e-01, -1.57705284e+00,\n",
       "        9.90030778e-01, -9.68592954e-01,  1.13583757e+00, -5.24262314e+00,\n",
       "        2.26935036e-01,  2.54498811e+00,  1.80651949e+00, -1.33257218e+00,\n",
       "        9.58911259e-01,  3.44720387e+00, -5.62928898e-01, -1.31704434e+00,\n",
       "        4.75171582e-01,  1.46146980e+00, -1.35691746e+00,  5.10800545e+00,\n",
       "       -3.70325408e+00,  2.96629070e-01,  2.43759976e-01,  7.97252394e-01,\n",
       "        2.12783863e+00, -1.84915207e+00,  1.63139221e+00,  5.79339442e-01,\n",
       "       -2.76112710e+00, -1.18893940e+00, -2.50744790e-01, -2.12434343e+00,\n",
       "       -1.48802216e+00, -3.94516823e+00, -1.39010969e+00, -3.57160711e-01,\n",
       "       -6.72341498e+00, -3.65546913e+00,  1.17624288e+00, -2.01853563e+00,\n",
       "       -1.95644091e+00, -3.85860712e+00, -1.10247446e+00, -1.29847583e-01,\n",
       "        6.42681984e+00, -2.18209570e+00,  2.92596222e-01,  5.98529535e+00,\n",
       "        2.30248143e+00,  2.01311336e-01,  9.79857729e-01,  2.16121269e+00,\n",
       "       -9.32077584e-01, -1.31706791e+00,  3.20435146e-01, -2.44551841e+00,\n",
       "        3.70282944e+00, -1.95955755e-01,  7.86859916e-01,  2.60508722e+00,\n",
       "        7.67488844e-01, -8.60484151e-01,  4.29689561e-01, -1.70047247e+00,\n",
       "        1.06731465e-01, -6.51393880e-01, -3.26146367e-01, -2.19665742e-01,\n",
       "        2.03654740e+00, -9.92610035e-01, -2.93326463e-01, -3.35047026e-01,\n",
       "       -1.24136513e+00,  6.82741317e-01, -1.96217149e+00,  3.69573902e-01,\n",
       "       -1.07863351e+00, -1.75848508e-01, -4.94856229e-01,  3.77332257e-01,\n",
       "        9.59856090e-01, -4.38008228e-01, -2.10594559e+00,  8.92466690e-01,\n",
       "        2.50210162e+00, -9.10292221e-02, -9.21268110e-03, -2.22247305e-02,\n",
       "        7.78452131e-01,  2.31604805e+00,  8.62318853e-01,  1.13612659e-01,\n",
       "        2.54122965e+00, -4.32302431e-01,  2.55090931e+00,  4.02031477e-01,\n",
       "       -7.82298756e-01, -2.03001629e+00,  3.00606413e+00,  2.47901313e+00,\n",
       "       -8.16000506e-01, -9.92438898e-01, -1.80535324e+00,  4.36860856e-01,\n",
       "       -4.54589511e-01, -1.19479691e+00, -1.83206043e+00, -2.23514270e+00,\n",
       "        2.18499883e+00, -1.49982475e+00, -2.13646155e+00,  7.30775970e-01,\n",
       "       -2.21042995e+00,  1.06769151e+00, -1.77835863e+00, -1.03792711e+00,\n",
       "       -1.58883879e+00, -4.04933242e+00,  1.80361816e+00, -2.52880758e+00,\n",
       "        2.98912881e-02, -4.74839505e-01, -1.01812581e+00, -1.57139312e+00,\n",
       "        7.77095661e-01, -1.66630163e+00, -2.07573362e+00, -4.84710079e-01,\n",
       "       -1.67288439e+00, -7.77585280e+00, -2.49404545e+00, -6.88471357e-02,\n",
       "       -1.79391877e+00,  2.11001135e+00,  1.16519697e-01,  8.99178649e-01,\n",
       "        1.22829668e+00,  3.42601142e+00,  1.44355553e+00, -9.03255929e-01,\n",
       "       -1.77222625e+00, -1.24685415e+00,  1.89946255e+00, -2.06371137e-01,\n",
       "       -9.73367811e-01, -2.08905230e+00,  1.28603932e+00,  2.30523632e+00,\n",
       "       -6.73339244e-01, -2.36395876e+00,  5.09833848e-01, -1.29870449e+00,\n",
       "       -2.27383393e-01,  4.38913433e+00, -2.46684076e+00, -1.48942356e+00,\n",
       "        9.98177835e-01, -2.45203497e+00, -9.77944319e-01, -4.55566412e+00,\n",
       "       -1.23615321e+00, -5.60954222e-01, -1.07788813e+00, -1.59109420e+00,\n",
       "        1.51590342e+00, -7.63900485e-01, -1.05868622e+00, -2.01920783e+00,\n",
       "       -8.38454663e-01,  3.38556077e+00,  1.50577059e+00, -5.49573572e+00,\n",
       "        7.72985280e+00,  8.29477545e+00,  1.59568385e+00,  4.11718668e+00,\n",
       "       -1.66569374e+00,  2.80292725e+00,  1.67219174e+00, -2.16104880e+00,\n",
       "        1.94163476e+00, -1.41100197e+00, -1.94369718e+00,  7.90146607e-01,\n",
       "       -1.94370995e+00, -2.33342894e+00,  1.07636000e+00,  1.01137018e+00,\n",
       "        4.96422470e+00, -3.45945192e+00, -7.86036036e-01,  6.36349270e-01,\n",
       "        1.28592516e+00,  2.67330060e+00,  9.68485226e-02, -8.71542624e-01,\n",
       "        1.54122528e+00,  6.00847969e-01,  4.05217789e-01,  8.04210012e-01,\n",
       "       -1.48470890e+00, -2.94143010e+00,  1.51858064e+00, -2.38220323e+00,\n",
       "        3.80715146e-01,  3.53448105e+00,  2.36739228e+00,  5.59945847e+00,\n",
       "        2.38961812e+00,  1.09238965e+00, -1.82141530e+00, -1.68157624e+00,\n",
       "       -2.13962740e-01, -1.13773992e+00,  1.84272497e-01,  2.31579282e+00,\n",
       "        4.96249929e-01,  2.28329957e-01, -7.67477944e-01,  1.26124190e+00,\n",
       "       -1.45163576e+00,  1.80083249e+00, -8.30068818e-01,  1.61645927e+00,\n",
       "        1.08425474e+00,  1.22168435e-01, -2.13559838e-01,  1.29284790e+00,\n",
       "       -1.78019691e-01, -2.13110611e+00,  3.48263666e+00, -5.73854672e-01,\n",
       "       -3.57681744e+00, -3.58404786e+00, -1.90229671e+00,  1.67201011e+00,\n",
       "       -6.70636791e-01])"
      ]
     },
     "execution_count": 17,
     "metadata": {},
     "output_type": "execute_result"
    }
   ],
   "source": [
    "x_pca[:,1]"
   ]
  },
  {
   "cell_type": "code",
   "execution_count": 18,
   "metadata": {},
   "outputs": [
    {
     "data": {
      "text/plain": [
       "Text(0,0.5,'Second Component')"
      ]
     },
     "execution_count": 18,
     "metadata": {},
     "output_type": "execute_result"
    },
    {
     "data": {
      "image/png": "[encoded data removed]",
      "text/plain": [
       "<matplotlib.figure.Figure at 0x1a0dcfcf98>"
      ]
     },
     "metadata": {},
     "output_type": "display_data"
    }
   ],
   "source": [
    "plt.figure(figsize=(12,8))\n",
    "\n",
    "#很重要的，透過圖表c(代表targert)，證明我們經過PCA所挑選的特徵是否能有效的將target分類，若可以有效分類，代表這兩個特徵有很大的影響力\n",
    "plt.scatter(x_pca[:,0],x_pca[:,1],c=df[\"target\"])\n",
    "\n",
    "plt.xlabel(\"First Component\")\n",
    "plt.ylabel(\"Second Component\")\n",
    "#plt.xlim([-20,10])"
   ]
  },
  {
   "cell_type": "code",
   "execution_count": 19,
   "metadata": {},
   "outputs": [
    {
     "data": {
      "text/plain": [
       "9.990056038806329e-17"
      ]
     },
     "execution_count": 19,
     "metadata": {},
     "output_type": "execute_result"
    }
   ],
   "source": [
    "x_pca[:,0].mean()"
   ]
  },
  {
   "cell_type": "code",
   "execution_count": 20,
   "metadata": {},
   "outputs": [
    {
     "data": {
      "text/plain": [
       "array([[ 0.21890244,  0.10372458,  0.22753729,  0.22099499,  0.14258969,\n",
       "         0.23928535,  0.25840048,  0.26085376,  0.13816696,  0.06436335,\n",
       "         0.20597878,  0.01742803,  0.21132592,  0.20286964,  0.01453145,\n",
       "         0.17039345,  0.15358979,  0.1834174 ,  0.04249842,  0.10256832,\n",
       "         0.22799663,  0.10446933,  0.23663968,  0.22487053,  0.12795256,\n",
       "         0.21009588,  0.22876753,  0.25088597,  0.12290456,  0.13178394],\n",
       "       [-0.23385713, -0.05970609, -0.21518136, -0.23107671,  0.18611302,\n",
       "         0.15189161,  0.06016536, -0.0347675 ,  0.19034877,  0.36657547,\n",
       "        -0.10555215,  0.08997968, -0.08945723, -0.15229263,  0.20443045,\n",
       "         0.2327159 ,  0.19720728,  0.13032156,  0.183848  ,  0.28009203,\n",
       "        -0.21986638, -0.0454673 , -0.19987843, -0.21935186,  0.17230435,\n",
       "         0.14359317,  0.09796411, -0.00825724,  0.14188335,  0.27533947]])"
      ]
     },
     "execution_count": 20,
     "metadata": {},
     "output_type": "execute_result"
    }
   ],
   "source": [
    "# each row represent the principal component\n",
    "# each column represent the relation between feature and original feature\n",
    "pca.components_"
   ]
  },
  {
   "cell_type": "code",
   "execution_count": 21,
   "metadata": {},
   "outputs": [],
   "source": [
    "df_df=pd.DataFrame(data=pca.components_,columns=df[\"feature_names\"])"
   ]
  },
  {
   "cell_type": "code",
   "execution_count": 27,
   "metadata": {},
   "outputs": [
    {
     "data": {
      "text/plain": [
       "array([0.44272026, 0.18971182])"
      ]
     },
     "execution_count": 27,
     "metadata": {},
     "output_type": "execute_result"
    }
   ],
   "source": [
    "pca.explained_variance_ratio_"
   ]
  },
  {
   "cell_type": "code",
   "execution_count": 29,
   "metadata": {},
   "outputs": [
    {
     "data": {
      "text/plain": [
       "array([13.30499079,  5.7013746 ])"
      ]
     },
     "execution_count": 29,
     "metadata": {},
     "output_type": "execute_result"
    }
   ],
   "source": [
    "pca.explained_variance_  "
   ]
  },
  {
   "cell_type": "code",
   "execution_count": 23,
   "metadata": {},
   "outputs": [
    {
     "data": {
      "text/html": [
       "<div>\n",
       "<style scoped>\n",
       "    .dataframe tbody tr th:only-of-type {\n",
       "        vertical-align: middle;\n",
       "    }\n",
       "\n",
       "    .dataframe tbody tr th {\n",
       "        vertical-align: top;\n",
       "    }\n",
       "\n",
       "    .dataframe thead th {\n",
       "        text-align: right;\n",
       "    }\n",
       "</style>\n",
       "<table border=\"1\" class=\"dataframe\">\n",
       "  <thead>\n",
       "    <tr style=\"text-align: right;\">\n",
       "      <th></th>\n",
       "      <th>mean radius</th>\n",
       "      <th>mean texture</th>\n",
       "      <th>mean perimeter</th>\n",
       "      <th>mean area</th>\n",
       "      <th>mean smoothness</th>\n",
       "      <th>mean compactness</th>\n",
       "      <th>mean concavity</th>\n",
       "      <th>mean concave points</th>\n",
       "      <th>mean symmetry</th>\n",
       "      <th>mean fractal dimension</th>\n",
       "      <th>radius error</th>\n",
       "      <th>texture error</th>\n",
       "      <th>perimeter error</th>\n",
       "      <th>area error</th>\n",
       "      <th>smoothness error</th>\n",
       "      <th>compactness error</th>\n",
       "      <th>concavity error</th>\n",
       "      <th>concave points error</th>\n",
       "      <th>symmetry error</th>\n",
       "      <th>fractal dimension error</th>\n",
       "      <th>worst radius</th>\n",
       "      <th>worst texture</th>\n",
       "      <th>worst perimeter</th>\n",
       "      <th>worst area</th>\n",
       "      <th>worst smoothness</th>\n",
       "      <th>worst compactness</th>\n",
       "      <th>worst concavity</th>\n",
       "      <th>worst concave points</th>\n",
       "      <th>worst symmetry</th>\n",
       "      <th>worst fractal dimension</th>\n",
       "    </tr>\n",
       "  </thead>\n",
       "  <tbody>\n",
       "    <tr>\n",
       "      <th>0</th>\n",
       "      <td>0.218902</td>\n",
       "      <td>0.103725</td>\n",
       "      <td>0.227537</td>\n",
       "      <td>0.220995</td>\n",
       "      <td>0.142590</td>\n",
       "      <td>0.239285</td>\n",
       "      <td>0.258400</td>\n",
       "      <td>0.260854</td>\n",
       "      <td>0.138167</td>\n",
       "      <td>0.064363</td>\n",
       "      <td>0.205979</td>\n",
       "      <td>0.017428</td>\n",
       "      <td>0.211326</td>\n",
       "      <td>0.202870</td>\n",
       "      <td>0.014531</td>\n",
       "      <td>0.170393</td>\n",
       "      <td>0.153590</td>\n",
       "      <td>0.183417</td>\n",
       "      <td>0.042498</td>\n",
       "      <td>0.102568</td>\n",
       "      <td>0.227997</td>\n",
       "      <td>0.104469</td>\n",
       "      <td>0.236640</td>\n",
       "      <td>0.224871</td>\n",
       "      <td>0.127953</td>\n",
       "      <td>0.210096</td>\n",
       "      <td>0.228768</td>\n",
       "      <td>0.250886</td>\n",
       "      <td>0.122905</td>\n",
       "      <td>0.131784</td>\n",
       "    </tr>\n",
       "    <tr>\n",
       "      <th>1</th>\n",
       "      <td>-0.233857</td>\n",
       "      <td>-0.059706</td>\n",
       "      <td>-0.215181</td>\n",
       "      <td>-0.231077</td>\n",
       "      <td>0.186113</td>\n",
       "      <td>0.151892</td>\n",
       "      <td>0.060165</td>\n",
       "      <td>-0.034768</td>\n",
       "      <td>0.190349</td>\n",
       "      <td>0.366575</td>\n",
       "      <td>-0.105552</td>\n",
       "      <td>0.089980</td>\n",
       "      <td>-0.089457</td>\n",
       "      <td>-0.152293</td>\n",
       "      <td>0.204430</td>\n",
       "      <td>0.232716</td>\n",
       "      <td>0.197207</td>\n",
       "      <td>0.130322</td>\n",
       "      <td>0.183848</td>\n",
       "      <td>0.280092</td>\n",
       "      <td>-0.219866</td>\n",
       "      <td>-0.045467</td>\n",
       "      <td>-0.199878</td>\n",
       "      <td>-0.219352</td>\n",
       "      <td>0.172304</td>\n",
       "      <td>0.143593</td>\n",
       "      <td>0.097964</td>\n",
       "      <td>-0.008257</td>\n",
       "      <td>0.141883</td>\n",
       "      <td>0.275339</td>\n",
       "    </tr>\n",
       "  </tbody>\n",
       "</table>\n",
       "</div>"
      ],
      "text/plain": [
       "   mean radius  mean texture  mean perimeter  mean area  mean smoothness  \\\n",
       "0     0.218902      0.103725        0.227537   0.220995         0.142590   \n",
       "1    -0.233857     -0.059706       -0.215181  -0.231077         0.186113   \n",
       "\n",
       "   mean compactness  mean concavity  mean concave points  mean symmetry  \\\n",
       "0          0.239285        0.258400             0.260854       0.138167   \n",
       "1          0.151892        0.060165            -0.034768       0.190349   \n",
       "\n",
       "   mean fractal dimension  radius error  texture error  perimeter error  \\\n",
       "0                0.064363      0.205979       0.017428         0.211326   \n",
       "1                0.366575     -0.105552       0.089980        -0.089457   \n",
       "\n",
       "   area error  smoothness error  compactness error  concavity error  \\\n",
       "0    0.202870          0.014531           0.170393         0.153590   \n",
       "1   -0.152293          0.204430           0.232716         0.197207   \n",
       "\n",
       "   concave points error  symmetry error  fractal dimension error  \\\n",
       "0              0.183417        0.042498                 0.102568   \n",
       "1              0.130322        0.183848                 0.280092   \n",
       "\n",
       "   worst radius  worst texture  worst perimeter  worst area  worst smoothness  \\\n",
       "0      0.227997       0.104469         0.236640    0.224871          0.127953   \n",
       "1     -0.219866      -0.045467        -0.199878   -0.219352          0.172304   \n",
       "\n",
       "   worst compactness  worst concavity  worst concave points  worst symmetry  \\\n",
       "0           0.210096         0.228768              0.250886        0.122905   \n",
       "1           0.143593         0.097964             -0.008257        0.141883   \n",
       "\n",
       "   worst fractal dimension  \n",
       "0                 0.131784  \n",
       "1                 0.275339  "
      ]
     },
     "execution_count": 23,
     "metadata": {},
     "output_type": "execute_result"
    }
   ],
   "source": [
    "df_df"
   ]
  },
  {
   "cell_type": "code",
   "execution_count": 22,
   "metadata": {},
   "outputs": [
    {
     "data": {
      "text/plain": [
       "<matplotlib.axes._subplots.AxesSubplot at 0x1a176a3b00>"
      ]
     },
     "execution_count": 22,
     "metadata": {},
     "output_type": "execute_result"
    },
    {
     "data": {
      "image/png": "[encoded data removed]",
      "text/plain": [
       "<matplotlib.figure.Figure at 0x1a176a3e10>"
      ]
     },
     "metadata": {},
     "output_type": "display_data"
    }
   ],
   "source": [
    "plt.figure(figsize=(12,5))\n",
    "sns.heatmap(df_df)"
   ]
  },
  {
   "cell_type": "code",
   "execution_count": 34,
   "metadata": {},
   "outputs": [
    {
     "data": {
      "text/plain": [
       "array([[ 0.21890244,  0.10372458,  0.22753729,  0.22099499,  0.14258969,\n",
       "         0.23928535,  0.25840048,  0.26085376,  0.13816696,  0.06436335,\n",
       "         0.20597878,  0.01742803,  0.21132592,  0.20286964,  0.01453145,\n",
       "         0.17039345,  0.15358979,  0.1834174 ,  0.04249842,  0.10256832,\n",
       "         0.22799663,  0.10446933,  0.23663968,  0.22487053,  0.12795256,\n",
       "         0.21009588,  0.22876753,  0.25088597,  0.12290456,  0.13178394],\n",
       "       [-0.23385713, -0.05970609, -0.21518136, -0.23107671,  0.18611302,\n",
       "         0.15189161,  0.06016536, -0.0347675 ,  0.19034877,  0.36657547,\n",
       "        -0.10555215,  0.08997968, -0.08945723, -0.15229263,  0.20443045,\n",
       "         0.2327159 ,  0.19720728,  0.13032156,  0.183848  ,  0.28009203,\n",
       "        -0.21986638, -0.0454673 , -0.19987843, -0.21935186,  0.17230435,\n",
       "         0.14359317,  0.09796411, -0.00825724,  0.14188335,  0.27533947]])"
      ]
     },
     "execution_count": 34,
     "metadata": {},
     "output_type": "execute_result"
    }
   ],
   "source": [
    "pca.components_"
   ]
  },
  {
   "cell_type": "code",
   "execution_count": null,
   "metadata": {},
   "outputs": [],
   "source": []
  }
 ],
 "metadata": {
  "kernelspec": {
   "display_name": "Python 3",
   "language": "python",
   "name": "python3"
  },
  "language_info": {
   "codemirror_mode": {
    "name": "ipython",
    "version": 3
   },
   "file_extension": ".py",
   "mimetype": "text/x-python",
   "name": "python",
   "nbconvert_exporter": "python",
   "pygments_lexer": "ipython3",
   "version": "3.6.4"
  }
 },
 "nbformat": 4,
 "nbformat_minor": 2
}
